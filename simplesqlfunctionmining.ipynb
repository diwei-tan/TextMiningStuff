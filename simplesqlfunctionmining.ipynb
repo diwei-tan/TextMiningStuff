{
 "cells": [
  {
   "cell_type": "code",
   "execution_count": null,
   "metadata": {},
   "outputs": [],
   "source": [
    "import re"
   ]
  },
  {
   "cell_type": "code",
   "execution_count": null,
   "metadata": {},
   "outputs": [],
   "source": [
    "file = open('SOMEFILE.rptdesign', 'r')\n",
    "text = file.read()\n",
    "split = text.split('SOMEFUNCTION')\n",
    "#anything in first string in array is useless\n",
    "split.pop(0)\n",
    "print(len(split))\n",
    "for line in split:\n",
    "    print()\n",
    "    print(line)"
   ]
  },
  {
   "cell_type": "code",
   "execution_count": null,
   "metadata": {},
   "outputs": [],
   "source": [
    "def FindFunctionContent(string):\n",
    "    #find all open and close brackets and store in arrays\n",
    "    index_open = []\n",
    "    for match in re.finditer('\\(', string):\n",
    "        index_open.append(match.start())\n",
    "    index_close = []\n",
    "    for match in re.finditer('\\)', string):\n",
    "        index_close.append(match.start())\n",
    "    index_open.sort()\n",
    "    index_close.sort()\n",
    "\n",
    "    if len(index_open) == 1 and len(index_close) == 1:\n",
    "        return string[0:index_close[0]+1]\n",
    "    else:\n",
    "        #find the earliest occurence when the last ')' closes all '(' before it\n",
    "        #start from first '('\n",
    "        curr_open = index_open[0]\n",
    "        curr_close = index_close[0]\n",
    "        index_open.pop(0)\n",
    "        openCount = 1\n",
    "        closeCount = 0\n",
    "        while openCount!=closeCount:\n",
    "            #iterate by finding smallest index and poping it\n",
    "            #if no more items in index_open, then just pop from close\n",
    "            if len(index_open)==0:\n",
    "                curr_close = index_close[0]\n",
    "                closeCount = closeCount + 1\n",
    "                index_close.pop(0)\n",
    "            else:\n",
    "                if index_open[0] <= index_close[0]:\n",
    "                    curr_open = index_open[0]\n",
    "                    index_open.pop(0)\n",
    "                    openCount = openCount + 1\n",
    "                elif index_close[0] < index_open[0]:\n",
    "                    curr_close = index_close[0]\n",
    "                    closeCount = closeCount + 1\n",
    "                    index_close.pop(0)\n",
    "        #breaks while loop, first occurance of completely closed, function ends here. curr_close is end of function\n",
    "        print(string[0:curr_close+1])\n",
    "        return string[0:curr_close+1]"
   ]
  },
  {
   "cell_type": "code",
   "execution_count": null,
   "metadata": {},
   "outputs": [],
   "source": [
    "funcContentArray=[]\n",
    "for line in split:\n",
    "    funcContentArray.append(FindFunctionContent(line))\n",
    "print(len(funcContentArray))\n",
    "for line in funcContentArray:\n",
    "    print('LINE: =======>' + str(line))"
   ]
  },
  {
   "cell_type": "code",
   "execution_count": null,
   "metadata": {},
   "outputs": [],
   "source": [
    "alllikelyfields=[]\n",
    "for line in funcContentArray:\n",
    "    words = re.split(r'\\W+', line)\n",
    "    while(\"\" in words) : \n",
    "        words.remove(\"\")\n",
    "    for word in words:\n",
    "        alllikelyfields.append(word)\n",
    "print(alllikelyfields)"
   ]
  },
  {
   "cell_type": "code",
   "execution_count": null,
   "metadata": {},
   "outputs": [],
   "source": []
  }
 ],
 "metadata": {
  "kernelspec": {
   "display_name": "Python 3",
   "language": "python",
   "name": "python3"
  },
  "language_info": {
   "codemirror_mode": {
    "name": "ipython",
    "version": 3
   },
   "file_extension": ".py",
   "mimetype": "text/x-python",
   "name": "python",
   "nbconvert_exporter": "python",
   "pygments_lexer": "ipython3",
   "version": "3.7.3"
  }
 },
 "nbformat": 4,
 "nbformat_minor": 2
}
